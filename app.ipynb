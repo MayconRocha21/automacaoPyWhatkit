{
 "cells": [
  {
   "cell_type": "markdown",
   "id": "c87fbbb6",
   "metadata": {},
   "source": [
    "# 📱 Usando PyWhatKit com Python\n",
    "\n",
    "Este notebook demonstra os usos mais comuns da biblioteca `pywhatkit`, incluindo envio de mensagens no WhatsApp, pesquisas, YouTube, Wikipedia e caligrafia."
   ]
  },
  {
   "cell_type": "code",
   "execution_count": null,
   "id": "460c530e",
   "metadata": {},
   "outputs": [],
   "source": [
    "# 📦 Instalação\n",
    "%pip install pywhatkit"
   ]
  },
  {
   "cell_type": "markdown",
   "id": "e4124511",
   "metadata": {},
   "source": [
    "## ✅ 1. Enviar mensagens pelo WhatsApp\n",
    "\n",
    "Envia uma mensagem para um número específico em um horário programado."
   ]
  },
  {
   "cell_type": "code",
   "execution_count": null,
   "id": "1e5c39a7",
   "metadata": {},
   "outputs": [],
   "source": [
    "import pywhatkit as kit \n",
    "# 📱 Enviar mensagem no WhatsApp Agendada\n",
    "kit.sendwhatmsg(\"+5511999999999\", \"Olá, tudo bem?\", 16, 22)\n",
    "\n"
   ]
  },
  {
   "cell_type": "markdown",
   "id": "b1d562dc",
   "metadata": {},
   "source": [
    "## ⚡ 2. Enviar mensagem instantânea\n",
    "\n",
    "Envia uma mensagem imediatamente após abrir o WhatsApp Web."
   ]
  },
  {
   "cell_type": "code",
   "execution_count": null,
   "id": "ebe38957",
   "metadata": {},
   "outputs": [],
   "source": [
    "import pywhatkit as kit \n",
    "\n",
    "kit.sendwhatmsg_instantly(\n",
    "    phone_no=\"+5511999999999\",\n",
    "    message=\"Olá, tudo bem?\",\n",
    "    tab_close=True, \n",
    "    close_time=3,\n",
    "    wait_time=10)"
   ]
  },
  {
   "cell_type": "markdown",
   "id": "5dc6cbd3",
   "metadata": {},
   "source": [
    "## 🔍 3. Pesquisar no Google"
   ]
  },
  {
   "cell_type": "code",
   "execution_count": null,
   "id": "45c86cc4",
   "metadata": {},
   "outputs": [],
   "source": [
    "kit.search(\"Python\")"
   ]
  },
  {
   "cell_type": "markdown",
   "id": "9556557d",
   "metadata": {},
   "source": [
    "## 📺 4. Tocar vídeos no YouTube"
   ]
  },
  {
   "cell_type": "code",
   "execution_count": null,
   "id": "40f0a719",
   "metadata": {},
   "outputs": [],
   "source": [
    "kit.playonyt(\"Python para automação\")"
   ]
  },
  {
   "cell_type": "markdown",
   "id": "ca04f04a",
   "metadata": {},
   "source": [
    "## ✍️ 5. Converter texto em caligrafia"
   ]
  },
  {
   "cell_type": "code",
   "execution_count": null,
   "id": "dcb73996",
   "metadata": {},
   "outputs": [],
   "source": [
    "kit.text_to_handwriting(\"Escreva alguma coisa aqui\", save_to=\"texto.png\", rgb=(0,0,255))"
   ]
  },
  {
   "cell_type": "markdown",
   "id": "d296d4dd",
   "metadata": {},
   "source": [
    "## 📚 6. Obter informações da Wikipedia"
   ]
  },
  {
   "cell_type": "code",
   "execution_count": null,
   "id": "667c37d8",
   "metadata": {},
   "outputs": [],
   "source": [
    "kit.info(\"Python\", 10)"
   ]
  }
 ],
 "metadata": {
  "kernelspec": {
   "display_name": ".venv",
   "language": "python",
   "name": "python3"
  },
  "language_info": {
   "codemirror_mode": {
    "name": "ipython",
    "version": 3
   },
   "file_extension": ".py",
   "mimetype": "text/x-python",
   "name": "python",
   "nbconvert_exporter": "python",
   "pygments_lexer": "ipython3",
   "version": "3.12.6"
  }
 },
 "nbformat": 4,
 "nbformat_minor": 5
}
